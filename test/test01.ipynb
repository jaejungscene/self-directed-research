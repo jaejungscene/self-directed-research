{
 "cells": [
  {
   "cell_type": "code",
   "execution_count": 2,
   "metadata": {},
   "outputs": [
    {
     "name": "stdout",
     "output_type": "stream",
     "text": [
      "1\n",
      "2\n",
      "3\n",
      "except\n"
     ]
    }
   ],
   "source": [
    "try:\n",
    "    x = [1,2,3]\n",
    "    for i in range(4):\n",
    "        print(x[i])\n",
    "except:\n",
    "    print('except')"
   ]
  },
  {
   "cell_type": "code",
   "execution_count": 41,
   "metadata": {},
   "outputs": [
    {
     "name": "stdout",
     "output_type": "stream",
     "text": [
      "torch.Size([16, 3, 277, 277])\n"
     ]
    }
   ],
   "source": [
    "import torch\n",
    "import torch.nn as nn\n",
    "input = torch.randn(16, 3, 32, 32)\n",
    "# downsample = nn.Conv2d(3, 16, kernel_size=3, stride=2, padding=1)(input)\n",
    "# print(downsample.shape)\n",
    "output = nn.ConvTranspose2d(3, 3, kernel_size=3)(input)\n",
    "output = nn.ConvTranspose2d(3, 3, kernel_size=3, stride=2)(output)\n",
    "output = nn.ConvTranspose2d(3, 3, kernel_size=5, stride=4)(output)\n",
    "print(output.shape)\n",
    "# print(output.shape)\n",
    "\n",
    "# input = torch.Tensor([[1.0, 2.0],\n",
    "#                       [3.0, 4.0]])\n",
    "# input = input.reshape((1,1,2,2))\n",
    "# print(input.shape)\n",
    "# result = nn.ConvTranspose2d(1,1, kernel_size=3, stride=1, padding=0)(input)\n",
    "# print(result.shape)\n",
    "# print(result)\n",
    "\n",
    "# result = nn.ConvTranspose2d(1,1, kernel_size=3, stride=2, padding=0, dilation=1)(input)\n",
    "# print(result.shape)\n",
    "# print(result)"
   ]
  },
  {
   "cell_type": "code",
   "execution_count": 50,
   "metadata": {},
   "outputs": [
    {
     "name": "stdout",
     "output_type": "stream",
     "text": [
      "tensor(0.0112, grad_fn=<SelectBackward0>)\n",
      "tensor(0.0112, grad_fn=<SelectBackward0>)\n"
     ]
    }
   ],
   "source": [
    "import torch.nn as nn\n",
    "from torchvision import models\n",
    "model = models.resnet50(weights=models.ResNet50_Weights.DEFAULT)\n",
    "print(model.fc.weight[0,0])\n",
    "model.fc = nn.Sequential(\n",
    "    model.fc,\n",
    "    nn.Linear(2048,100)\n",
    ")\n",
    "# print(model)\n",
    "print(model.fc[0].weight[0,0])"
   ]
  },
  {
   "cell_type": "code",
   "execution_count": 4,
   "metadata": {},
   "outputs": [
    {
     "name": "stdout",
     "output_type": "stream",
     "text": [
      "1660716148.2533243\n",
      "4.006220102310181\n",
      "00:00:04\n"
     ]
    }
   ],
   "source": [
    "import time\n",
    "\n",
    "start = time.time()\n",
    "print(start)\n",
    "time.sleep(2)\n",
    "lap = time.time()-start\n",
    "start = time.time()\n",
    "time.sleep(2)\n",
    "lap += time.time()-start\n",
    "print(lap)\n",
    "\n",
    "print(time.strftime('%H:%M:%S', time.localtime(lap)))"
   ]
  },
  {
   "cell_type": "code",
   "execution_count": 61,
   "metadata": {},
   "outputs": [
    {
     "name": "stdout",
     "output_type": "stream",
     "text": [
      "tensor([9, 7, 6, 2, 1])\n",
      "torch.Size([128, 5])\n",
      "torch.Size([128])\n",
      "torch.Size([1, 128])\n",
      "torch.Size([5, 128])\n",
      "128\n",
      "torch.Size([5, 128])\n",
      "tensor([False, False, False, False, False])\n",
      "torch.Size([640])\n",
      "tensor([0.])\n",
      "torch.Size([1])\n",
      "\n",
      "tensor([128.])\n",
      "tensor([100.])\n"
     ]
    }
   ],
   "source": [
    "def accuracy(output, target, topk=(1,)):\n",
    "    \"\"\"Computes the precision@k for the specified values of k\"\"\"\n",
    "    maxk = max(topk)\n",
    "    batch_size = target.size(0)\n",
    "\n",
    "    _, pred = output.topk(maxk, 1, True, True)\n",
    "    pred = pred.t() # transpose\n",
    "    correct = pred.eq(target.reshape(1, -1).expand_as(pred))\n",
    "\n",
    "    res = []\n",
    "    for k in topk:\n",
    "        correct_k = correct[:k].reshape(-1).float().sum(0, keepdim=True)\n",
    "        wrong_k = batch_size - correct_k\n",
    "        res.append(wrong_k.mul_(100.0 / batch_size))\n",
    "\n",
    "    return res\n",
    "\n",
    "import torch\n",
    "\n",
    "output = torch.randn((128,10))\n",
    "target = torch.randn((128))\n",
    "# print(output.shape)\n",
    "_,pred = (output.topk(5, 1, True, True))\n",
    "print(pred[0])\n",
    "print(pred.shape)\n",
    "pred = pred.T\n",
    "# print(pred.T.shape)\n",
    "# print(output.size(0))\n",
    "target[0] = output[0,pred[0,0]]\n",
    "print(target.shape)\n",
    "print(target.reshape(1,-1).shape)\n",
    "print(target.reshape(1,-1).expand_as(pred).shape)\n",
    "print(target.size(0))\n",
    "\n",
    "correct = pred.eq(target.reshape(1, -1).expand_as(pred))\n",
    "print(correct.shape)\n",
    "print(correct[:5,0])\n",
    "print(correct.reshape(-1).shape)\n",
    "correct_k = correct[:5].reshape(-1).float().sum(0, keepdim=True)\n",
    "print(correct_k)\n",
    "print(correct_k.shape)\n",
    "\n",
    "print()\n",
    "wrong_k = target.size(0) - correct_k\n",
    "print(wrong_k)\n",
    "print(wrong_k.mul(100./target.size(0)))\n"
   ]
  },
  {
   "cell_type": "code",
   "execution_count": 49,
   "metadata": {},
   "outputs": [
    {
     "name": "stdout",
     "output_type": "stream",
     "text": [
      "hello asdf, fjel,asdl\n",
      "False\n"
     ]
    }
   ],
   "source": [
    "st = 'asdf'\n",
    "temp = 'fjel,asdl'\n",
    "print('hello {}, {temp1}'.format(st, temp1=temp))\n",
    "\n",
    "err1 = 12\n",
    "best_err1 = 1\n",
    "is_best = err1 <= best_err1\n",
    "print(is_best)"
   ]
  },
  {
   "cell_type": "code",
   "execution_count": 10,
   "metadata": {},
   "outputs": [
    {
     "name": "stdout",
     "output_type": "stream",
     "text": [
      "torch.Size([3, 3])\n",
      "tensor([[1.5000, 2.5000],\n",
      "        [1.5000, 2.5000],\n",
      "        [2.5000, 1.5000]])\n"
     ]
    }
   ],
   "source": [
    "import torch.nn as nn\n",
    "import torch\n",
    "x = torch.Tensor([[1,2,3],\n",
    "[1,2,3],\n",
    "[3,2,1]])\n",
    "print(x.shape)\n",
    "\n",
    "print(nn.AvgPool1d(kernel_size=2,stride=1)(x))\n"
   ]
  },
  {
   "cell_type": "code",
   "execution_count": 3,
   "metadata": {},
   "outputs": [
    {
     "name": "stdout",
     "output_type": "stream",
     "text": [
      "Bottleneck(\n",
      "  (conv1): Conv2d(16, 16, kernel_size=(1, 1), stride=(1, 1), bias=False)\n",
      "  (bn1): BatchNorm2d(16, eps=1e-05, momentum=0.1, affine=True, track_running_stats=True)\n",
      "  (conv2): Conv2d(16, 16, kernel_size=(3, 3), stride=(1, 1), padding=(1, 1), bias=False)\n",
      "  (bn2): BatchNorm2d(16, eps=1e-05, momentum=0.1, affine=True, track_running_stats=True)\n",
      "  (conv3): Conv2d(16, 64, kernel_size=(1, 1), stride=(1, 1), bias=False)\n",
      "  (bn3): BatchNorm2d(64, eps=1e-05, momentum=0.1, affine=True, track_running_stats=True)\n",
      "  (relu): ReLU(inplace=True)\n",
      "  (downsample): Sequential(\n",
      "    (0): Conv2d(16, 64, kernel_size=(1, 1), stride=(1, 1), bias=False)\n",
      "    (1): BatchNorm2d(64, eps=1e-05, momentum=0.1, affine=True, track_running_stats=True)\n",
      "  )\n",
      ")\n"
     ]
    }
   ],
   "source": [
    "import torch.nn as nn\n",
    "\n",
    "class Bottleneck(nn.Module):\n",
    "    expansion = 4\n",
    "\n",
    "    def __init__(self, inplanes, planes, stride=1, downsample=None):\n",
    "        super(Bottleneck, self).__init__()\n",
    "\n",
    "        self.conv1 = nn.Conv2d(inplanes, planes, kernel_size=1, bias=False)\n",
    "        self.bn1 = nn.BatchNorm2d(planes)\n",
    "        self.conv2 = nn.Conv2d(planes, planes, kernel_size=3, stride=stride, padding=1, bias=False)\n",
    "        self.bn2 = nn.BatchNorm2d(planes)\n",
    "        self.conv3 = nn.Conv2d(planes, planes * Bottleneck.expansion, kernel_size=1, bias=False)\n",
    "        self.bn3 = nn.BatchNorm2d(planes * Bottleneck.expansion)\n",
    "        self.relu = nn.ReLU(inplace=True)\n",
    "\n",
    "        self.downsample = downsample\n",
    "        self.stride = stride\n",
    "\n",
    "    def forward(self, x):\n",
    "        residual = x\n",
    "\n",
    "        out = self.conv1(x)\n",
    "        out = self.bn1(out)\n",
    "        out = self.relu(out)\n",
    "\n",
    "        out = self.conv2(out)\n",
    "        out = self.bn2(out)\n",
    "        out = self.relu(out)\n",
    "\n",
    "        out = self.conv3(out)\n",
    "        out = self.bn3(out)\n",
    "        if self.downsample is not None:\n",
    "            residual = self.downsample(x)\n",
    "\n",
    "        out += residual\n",
    "        out = self.relu(out)\n",
    "\n",
    "        return out\n",
    "\n",
    "downsample = nn.Sequential(\n",
    "                nn.Conv2d(16, 64, kernel_size=1, stride=1, bias=False),\n",
    "                nn.BatchNorm2d(64),\n",
    "            )\n",
    "\n",
    "block = Bottleneck(16, 16, 1, downsample)\n",
    "print(block)\n"
   ]
  },
  {
   "cell_type": "code",
   "execution_count": 2,
   "metadata": {},
   "outputs": [
    {
     "name": "stdout",
     "output_type": "stream",
     "text": [
      "<class 'str'>\n"
     ]
    }
   ],
   "source": [
    "from datetime import datetime\n",
    "time = datetime.now().strftime('%Y-%m-%d %H:%M:%S')\n",
    "print(type(time))"
   ]
  },
  {
   "cell_type": "code",
   "execution_count": 6,
   "metadata": {},
   "outputs": [
    {
     "name": "stdout",
     "output_type": "stream",
     "text": [
      "12\n"
     ]
    }
   ],
   "source": [
    "def func():\n",
    "    global arge\n",
    "    arge = 12\n",
    "\n",
    "func()\n",
    "print(arge)"
   ]
  },
  {
   "cell_type": "code",
   "execution_count": 3,
   "metadata": {},
   "outputs": [
    {
     "name": "stdout",
     "output_type": "stream",
     "text": [
      "123\n"
     ]
    }
   ],
   "source": [
    "act = False\n",
    "print(3 if act else 123)"
   ]
  },
  {
   "cell_type": "code",
   "execution_count": 9,
   "metadata": {},
   "outputs": [
    {
     "name": "stdout",
     "output_type": "stream",
     "text": [
      "{'parameter': 12, 'name': 'jae'}\n",
      "<class 'dict'>\n",
      "{'nblock': [3, 4, 6, 3], 'block': 'hello'}\n",
      "\n",
      "nblock\n",
      "block\n",
      "\n",
      "[3, 4, 6, 3]\n",
      "hello\n"
     ]
    }
   ],
   "source": [
    "d = {'parameter':12, 'name':'jae'}\n",
    "print(d)\n",
    "print(type(d))\n",
    "config = dict(nblock=[3,4,6,3], block='hello')\n",
    "print(config)\n",
    "def func(nblock, block):\n",
    "    print(nblock)\n",
    "    print(block)\n",
    "print()\n",
    "func(*config)\n",
    "print()\n",
    "func(**config)\n"
   ]
  },
  {
   "cell_type": "code",
   "execution_count": 12,
   "metadata": {},
   "outputs": [
    {
     "name": "stdout",
     "output_type": "stream",
     "text": [
      "0\n"
     ]
    }
   ],
   "source": [
    "class tmp():\n",
    "    def __init__(self, width, base_width):\n",
    "        self.width = width = 0\n",
    "        print(self.width)\n",
    "\n",
    "t = tmp(3, 2.3)"
   ]
  },
  {
   "cell_type": "code",
   "execution_count": 11,
   "metadata": {},
   "outputs": [],
   "source": [
    "import torch\n",
    "import torch.nn as nn\n",
    "\n",
    "def conv3x3(in_planes, out_planes, stride=1):\n",
    "    \"3x3 convolution with padding\"\n",
    "    return nn.Conv2d(in_planes, out_planes, kernel_size=3, stride=stride,\n",
    "                     padding=1, bias=False)\n",
    "\n",
    "\n",
    "\n",
    "class BasicBlock(nn.Module):\n",
    "    expansion = 1\n",
    "\n",
    "    def __init__(self, inplanes, planes, stride=1, downsample=None):\n",
    "        super(BasicBlock, self).__init__()\n",
    "        self.conv1 = conv3x3(inplanes, planes, stride)\n",
    "        self.bn1 = nn.BatchNorm2d(planes)\n",
    "        self.conv2 = conv3x3(planes, planes)\n",
    "        self.bn2 = nn.BatchNorm2d(planes)\n",
    "        self.relu = nn.ReLU(inplace=True)\n",
    "\n",
    "        self.downsample = downsample\n",
    "        self.stride = stride\n",
    "\n",
    "    def forward(self, x):\n",
    "        residual = x\n",
    "\n",
    "        out = self.conv1(x)\n",
    "        out = self.bn1(out)\n",
    "        out = self.relu(out)\n",
    "\n",
    "        out = self.conv2(out)\n",
    "        out = self.bn2(out)\n",
    "\n",
    "        if self.downsample is not None:\n",
    "            residual = self.downsample(x)\n",
    "\n",
    "        out += residual\n",
    "        out = self.relu(out)\n",
    "\n",
    "        return out\n",
    "\n",
    "\n",
    "\n",
    "class Bottleneck(nn.Module):\n",
    "    expansion = 4\n",
    "\n",
    "    def __init__(self, inplanes, planes, stride=1, downsample=None):\n",
    "        super(Bottleneck, self).__init__()\n",
    "\n",
    "        self.conv1 = nn.Conv2d(inplanes, planes, kernel_size=1, bias=False)\n",
    "        self.bn1 = nn.BatchNorm2d(planes)\n",
    "        self.conv2 = nn.Conv2d(planes, planes, kernel_size=3, stride=stride, padding=1, bias=False)\n",
    "        self.bn2 = nn.BatchNorm2d(planes)\n",
    "        self.conv3 = nn.Conv2d(planes, planes * Bottleneck.expansion, kernel_size=1, bias=False)\n",
    "        self.bn3 = nn.BatchNorm2d(planes * Bottleneck.expansion)\n",
    "        self.relu = nn.ReLU(inplace=True)\n",
    "\n",
    "        self.downsample = downsample\n",
    "        self.stride = stride\n",
    "\n",
    "    def forward(self, x):\n",
    "        residual = x\n",
    "\n",
    "        out = self.conv1(x)\n",
    "        out = self.bn1(out)\n",
    "        out = self.relu(out)\n",
    "\n",
    "        out = self.conv2(out)\n",
    "        out = self.bn2(out)\n",
    "        out = self.relu(out)\n",
    "\n",
    "        out = self.conv3(out)\n",
    "        out = self.bn3(out)\n",
    "        if self.downsample is not None:\n",
    "            residual = self.downsample(x)\n",
    "\n",
    "        out += residual\n",
    "        out = self.relu(out)\n",
    "\n",
    "        return out\n",
    "\n",
    "\n",
    "\n",
    "class SEblock(nn.Module):\n",
    "    r = 16\n",
    "    def __init__(self, channel):\n",
    "        super(SEblock, self).__init__()\n",
    "\n",
    "        self.avg_pool = nn.AdaptiveAvgPool2d(1)\n",
    "        self.fc = nn.Sequential(\n",
    "            nn.Linear(channel, channel//self.r, bias=False),\n",
    "            nn.ReLU(),\n",
    "            nn.Linear(channel//self.r, channel, bias=False),\n",
    "            nn.Sigmoid(),\n",
    "        )\n",
    "    \n",
    "    def forward(self, x):\n",
    "        b, c, _, _ = x.size()\n",
    "        y = self.avg_pool(x)\n",
    "        y = y.view(b, c)  # flatten\n",
    "        y = self.fc(y)\n",
    "        y = y.view(b, c, 1, 1)\n",
    "        return x * y.expand_as(x) # y의 형상을 x로 맞추어줌\n",
    "\n",
    "\n",
    "\n",
    "class CBAM(nn.Module):\n",
    "    r = 16\n",
    "    def __init__(self, channel):\n",
    "        super(CBAM, self).__init__()\n",
    "\n",
    "        self.avg_pool = nn.AdaptiveAvgPool2d(1)\n",
    "        self.max_pool = nn.AdaptiveMaxPool2d(1)\n",
    "        self.fc = nn.Sequential(\n",
    "            nn.Linear(channel, channel//self.r, bias=False),\n",
    "            nn.ReLU(),\n",
    "            nn.Linear(channel//self.r, channel, bias=False),\n",
    "        )\n",
    "\n",
    "        self.conv7 = nn.Conv2d(2, 1, kernel_size=7, padding=7//2, bias=False)\n",
    "\n",
    "    def forward(self, x):\n",
    "        ## channel attention 과정 ##\n",
    "        b, c, _, _ = x.size()\n",
    "        y1 = self.avg_pool(x)\n",
    "        y1 = y1.view(b, c)  # flatten\n",
    "        y1 = self.fc(y1)\n",
    "        y1 = y1.view(b, c, 1, 1)\n",
    "        y2 = self.max_pool(x)\n",
    "        y2 = y2.view(b, c)  # flatten\n",
    "        y2 = self.fc(y2)\n",
    "        y2 = y2.view(b, c, 1, 1)\n",
    "        channel_attention = nn.Sigmoid()(y1 + y2)\n",
    "        x = x * channel_attention.expand_as(x) # hadamard product (y의 형상을 x로 맞추어줌)\n",
    "\n",
    "        ## spatial attention 과정 ##\n",
    "        spatial_avg = torch.mean(x, dim=1) # channel이 0으로 되어 있어서 1로 바꿈\n",
    "        b, size, _, = spatial_avg.size()\n",
    "        spatial_avg = spatial_avg.view(b, 1, size, -1)\n",
    "        spatial_max, _ = torch.max(x, dim=1) # channel이 0으로 되어 있어서 1로 바꿈\n",
    "        b, size, _, = spatial_max.size()\n",
    "        spatial_max = spatial_max.view(b, 1, size, -1)\n",
    "        spatial_attention = torch.cat([spatial_avg, spatial_max], 1)\n",
    "        spatial_attention = self.conv7(spatial_attention)\n",
    "        spatial_attention = nn.Sigmoid()(spatial_attention)\n",
    "        x = x * spatial_attention.expand_as(x)\n",
    "        return x\n",
    "\n",
    "import torch.nn as nn\n",
    "import math\n",
    "\n",
    "class ResNet(nn.Module):\n",
    "    def __init__(self, dataset, depth, num_classes, bottleneck=False):\n",
    "        super(ResNet, self).__init__()        \n",
    "        self.dataset = dataset\n",
    "        if self.dataset.startswith('cifar'): # if dataset is cifar...\n",
    "            self.inplanes = 16\n",
    "            # print(bottleneck)\n",
    "            if bottleneck == True:\n",
    "                n = int((depth - 2) / 9)\n",
    "                block = Bottleneck\n",
    "            else:\n",
    "                n = int((depth - 2) / 6)\n",
    "                block = BasicBlock\n",
    "\n",
    "            self.conv1 = nn.Conv2d(3, self.inplanes, kernel_size=3, stride=1, padding=1, bias=False)\n",
    "            self.bn1 = nn.BatchNorm2d(self.inplanes)\n",
    "            self.relu = nn.ReLU(inplace=True)\n",
    "            self.layer1 = self._make_layer(block, 16, n)\n",
    "            self.layer2 = self._make_layer(block, 32, n, stride=2)\n",
    "            self.layer3 = self._make_layer(block, 64, n, stride=2) \n",
    "            self.avgpool = nn.AvgPool2d(8)\n",
    "            self.fc = nn.Linear(64 * block.expansion, num_classes)\n",
    "\n",
    "        elif dataset == 'imagenet': # if dataset is imagenet\n",
    "            blocks ={18: BasicBlock, 34: BasicBlock, 50: Bottleneck, 101: Bottleneck, 152: Bottleneck, 200: Bottleneck}\n",
    "            layers ={18: [2, 2, 2, 2], 34: [3, 4, 6, 3], 50: [3, 4, 6, 3], 101: [3, 4, 23, 3], 152: [3, 8, 36, 3], 200: [3, 24, 36, 3]}\n",
    "            assert layers[depth], 'invalid detph for ResNet (depth should be one of 18, 34, 50, 101, 152, and 200)'\n",
    "\n",
    "            self.inplanes = 64\n",
    "            self.conv1 = nn.Conv2d(3, self.inplanes, kernel_size=7, stride=2, padding=3, bias=False)\n",
    "            self.bn1 = nn.BatchNorm2d(64)\n",
    "            self.relu = nn.ReLU(inplace=True)\n",
    "            self.maxpool = nn.MaxPool2d(kernel_size=3, stride=2, padding=1)\n",
    "            self.layer1 = self._make_layer(blocks[depth], 64, layers[depth][0])\n",
    "            self.layer2 = self._make_layer(blocks[depth], 128, layers[depth][1], stride=2)\n",
    "            self.layer3 = self._make_layer(blocks[depth], 256, layers[depth][2], stride=2)\n",
    "            self.layer4 = self._make_layer(blocks[depth], 512, layers[depth][3], stride=2)\n",
    "            self.avgpool = nn.AvgPool2d(7) \n",
    "            self.fc = nn.Linear(512 * blocks[depth].expansion, num_classes)\n",
    "\n",
    "        for m in self.modules():\n",
    "            if isinstance(m, nn.Conv2d):\n",
    "                n = m.kernel_size[0] * m.kernel_size[1] * m.out_channels\n",
    "                m.weight.data.normal_(0, math.sqrt(2. / n))\n",
    "            elif isinstance(m, nn.BatchNorm2d):\n",
    "                m.weight.data.fill_(1)\n",
    "                m.bias.data.zero_()\n",
    "\n",
    "    def _make_layer(self, block, planes, blocks, stride=1):\n",
    "        downsample = None\n",
    "        if stride != 1 or self.inplanes != planes * block.expansion:\n",
    "            downsample = nn.Sequential(\n",
    "                nn.Conv2d(self.inplanes, planes * block.expansion,\n",
    "                          kernel_size=1, stride=stride, bias=False),\n",
    "                nn.BatchNorm2d(planes * block.expansion),\n",
    "            )\n",
    "\n",
    "        layers = []\n",
    "        layers.append(block(self.inplanes, planes, stride, downsample))\n",
    "        self.inplanes = planes * block.expansion\n",
    "        for i in range(1, blocks):\n",
    "            layers.append(block(self.inplanes, planes))\n",
    "\n",
    "        return nn.Sequential(*layers)\n",
    "\n",
    "    def forward(self, x):\n",
    "        if self.dataset == 'cifar10' or self.dataset == 'cifar100':\n",
    "            x = self.conv1(x)\n",
    "            x = self.bn1(x)\n",
    "            x = self.relu(x)\n",
    "            \n",
    "            x = self.layer1(x)\n",
    "            x = self.layer2(x)\n",
    "            x = self.layer3(x)\n",
    "\n",
    "            x = self.avgpool(x)\n",
    "            x = x.view(x.size(0), -1)\n",
    "            x = self.fc(x)\n",
    "\n",
    "        elif self.dataset == 'imagenet':\n",
    "            x = self.conv1(x)\n",
    "            x = self.bn1(x)\n",
    "            x = self.relu(x)\n",
    "            x = self.maxpool(x)\n",
    "\n",
    "            x = self.layer1(x)\n",
    "            x = self.layer2(x)\n",
    "            x = self.layer3(x)\n",
    "            x = self.layer4(x)\n",
    "\n",
    "            x = self.avgpool(x)\n",
    "            x = x.view(x.size(0), -1)\n",
    "            x = self.fc(x)\n",
    "    \n",
    "        return x\n",
    "\n",
    "model = ResNet('cifar-10', 10, )"
   ]
  },
  {
   "cell_type": "code",
   "execution_count": null,
   "metadata": {},
   "outputs": [],
   "source": []
  }
 ],
 "metadata": {
  "kernelspec": {
   "display_name": "Python 3.8.13 ('torch')",
   "language": "python",
   "name": "python3"
  },
  "language_info": {
   "codemirror_mode": {
    "name": "ipython",
    "version": 3
   },
   "file_extension": ".py",
   "mimetype": "text/x-python",
   "name": "python",
   "nbconvert_exporter": "python",
   "pygments_lexer": "ipython3",
   "version": "3.8.13"
  },
  "orig_nbformat": 4,
  "vscode": {
   "interpreter": {
    "hash": "65fe116ec29312474b580f4ecbad52a94f46ea3a142b15e85ff8e68848a207e7"
   }
  }
 },
 "nbformat": 4,
 "nbformat_minor": 2
}
